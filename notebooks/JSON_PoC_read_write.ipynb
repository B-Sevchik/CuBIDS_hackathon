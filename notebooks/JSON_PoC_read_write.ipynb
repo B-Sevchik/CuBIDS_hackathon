{
 "cells": [
  {
   "cell_type": "markdown",
   "metadata": {},
   "source": [
    "In this proof of concept we will read & write JSON files in Jupyter notebook. \n",
    "\n",
    "1. display the data in the sidecar []\n",
    "2. edit this data []\n",
    "3. check that the sidecar will write valid JSON files. "
   ]
  },
  {
   "cell_type": "code",
   "execution_count": 16,
   "metadata": {},
   "outputs": [],
   "source": [
    "#import json module to be able to read & write json files \n",
    "import json"
   ]
  },
  {
   "cell_type": "markdown",
   "metadata": {},
   "source": [
    "The first part will include displaying the data in the sidecar by reading the JSON files "
   ]
  },
  {
   "cell_type": "code",
   "execution_count": 14,
   "metadata": {},
   "outputs": [],
   "source": [
    "#open the json file in your directory \n",
    "\n",
    "file = open('/Users/bjaber/Desktop/package_project/data/sub-1832999514/ses-PNC1/func/sub-1832999514_ses-PNC1_task-rest_acq-singleband_task-rest_bold.json')"
   ]
  },
  {
   "cell_type": "code",
   "execution_count": 15,
   "metadata": {},
   "outputs": [],
   "source": [
    "#use json.load command to read the file. \n",
    "\n",
    "json_data = json.load(file)"
   ]
  },
  {
   "cell_type": "code",
   "execution_count": 25,
   "metadata": {},
   "outputs": [
    {
     "data": {
      "text/plain": [
       "{'AcquisitionDateTime': '2010-02-18T19:45:55.120000',\n",
       " 'AcquisitionMatrixPE': 64,\n",
       " 'AcquisitionNumber': 1,\n",
       " 'AcquisitionTime': '19:45:55.120000',\n",
       " 'BandwidthPerPixelPhaseEncode': 28.409,\n",
       " 'BaseResolution': 64,\n",
       " 'ConversionSoftware': 'dcm2niix',\n",
       " 'ConversionSoftwareVersion': 'v1.0.20190410  (JP2:OpenJPEG) GCC4.8.4',\n",
       " 'DeidentificationMethod': 'Penn_BSC_profile_v1.0',\n",
       " 'DerivedVendorReportedEchoSpacing': 0.000550002,\n",
       " 'DeviceSerialNumber': '35069',\n",
       " 'EchoTime': 0.032,\n",
       " 'EffectiveEchoSpacing': 0.000550002,\n",
       " 'FlipAngle': 90,\n",
       " 'ImageOrientationPatientDICOM': [1, 0, 0, 0, 1, 0],\n",
       " 'ImageType': ['ORIGINAL', 'PRIMARY', 'M', 'ND', 'MOSAIC'],\n",
       " 'ImagingFrequency': 123.259,\n",
       " 'InPlanePhaseEncodingDirectionDICOM': 'COL',\n",
       " 'InstitutionAddress': 'Spruce_Street_3400_Philadelphia_20DBC9_Pennsylvania_US_19104',\n",
       " 'InstitutionName': 'HUP6',\n",
       " 'MRAcquisitionType': '2D',\n",
       " 'MagneticFieldStrength': 3,\n",
       " 'Manufacturer': 'Siemens',\n",
       " 'ManufacturersModelName': 'TrioTim',\n",
       " 'Modality': 'MR',\n",
       " 'PartialFourier': 1,\n",
       " 'PatientPosition': 'HFS',\n",
       " 'PatientSex': 'M',\n",
       " 'PercentPhaseFOV': 100,\n",
       " 'PhaseEncodingDirection': 'j-',\n",
       " 'PhaseEncodingSteps': 64,\n",
       " 'PhaseResolution': 1,\n",
       " 'PixelBandwidth': 2056,\n",
       " 'ProcedureStepDescription': 'mri_brain',\n",
       " 'ProtocolName': 'bbl1_restbold1_124',\n",
       " 'PulseSequenceDetails': '%SiemensSeq%_ep2d_bold',\n",
       " 'ReceiveCoilName': '32Ch_Head',\n",
       " 'ReconMatrixPE': 64,\n",
       " 'RepetitionTime': 3,\n",
       " 'SAR': 0.169109,\n",
       " 'ScanOptions': 'FS',\n",
       " 'ScanningSequence': 'EP',\n",
       " 'SequenceName': 'epfid2d1_64',\n",
       " 'SequenceVariant': 'SK',\n",
       " 'SeriesDescription': 'bbl1_restbold1_124',\n",
       " 'SeriesInstanceUID': '1.3.12.2.1107.5.2.32.35069.2010021819452274312204584.0.0.0',\n",
       " 'SeriesNumber': 12,\n",
       " 'ShimSetting': [4030, -6590, -3870, 1022, -21, 207, -186, 41],\n",
       " 'SliceThickness': 3,\n",
       " 'SliceTiming': [1.505,\n",
       "  0,\n",
       "  1.57,\n",
       "  0.065,\n",
       "  1.635,\n",
       "  0.13,\n",
       "  1.7,\n",
       "  0.195,\n",
       "  1.7675,\n",
       "  0.26,\n",
       "  1.8325,\n",
       "  0.325,\n",
       "  1.8975,\n",
       "  0.3925,\n",
       "  1.9625,\n",
       "  0.4575,\n",
       "  2.0275,\n",
       "  0.5225,\n",
       "  2.095,\n",
       "  0.5875,\n",
       "  2.16,\n",
       "  0.6525,\n",
       "  2.225,\n",
       "  0.72,\n",
       "  2.29,\n",
       "  0.785,\n",
       "  2.355,\n",
       "  0.85,\n",
       "  2.4225,\n",
       "  0.915,\n",
       "  2.4875,\n",
       "  0.98,\n",
       "  2.5525,\n",
       "  1.0475,\n",
       "  2.6175,\n",
       "  1.1125,\n",
       "  2.6825,\n",
       "  1.1775,\n",
       "  2.7475,\n",
       "  1.2425,\n",
       "  2.815,\n",
       "  1.3075,\n",
       "  2.88,\n",
       "  1.375,\n",
       "  2.945,\n",
       "  1.44],\n",
       " 'SoftwareVersions': 'syngo_MR_B17',\n",
       " 'SpacingBetweenSlices': 3,\n",
       " 'StationName': 'hup6',\n",
       " 'StudyID': '6318483',\n",
       " 'StudyInstanceUID': '1.2.840.113745.101000.1002000.40224.6628.27668004',\n",
       " 'TaskName': 'rest',\n",
       " 'TotalReadoutTime': 0.0346501,\n",
       " 'TxRefAmp': 315.784}"
      ]
     },
     "execution_count": 25,
     "metadata": {},
     "output_type": "execute_result"
    }
   ],
   "source": [
    "#Uncomment below to view data\n",
    "json_data"
   ]
  },
  {
   "cell_type": "markdown",
   "metadata": {},
   "source": [
    "The following part is used to edit JSON file data. \n",
    "\n",
    "In order to do so, call to the JSON object that was created using the json.load commeand, in this case json_data, and refer to the value that you want to change and edit it. "
   ]
  },
  {
   "cell_type": "code",
   "execution_count": 18,
   "metadata": {},
   "outputs": [],
   "source": [
    "# Here we change the value for AcquisionNumber from 1 to 2. \n",
    "json_data[\"AcquisitionNumber\"] = 2"
   ]
  },
  {
   "cell_type": "code",
   "execution_count": 21,
   "metadata": {},
   "outputs": [],
   "source": [
    "#Uncomment below to view edited data\n",
    "#json_data"
   ]
  },
  {
   "cell_type": "code",
   "execution_count": 22,
   "metadata": {},
   "outputs": [],
   "source": [
    "#Reverting back to original data\n",
    "json_data[\"AcquisitionNumber\"] = 1"
   ]
  },
  {
   "cell_type": "markdown",
   "metadata": {},
   "source": [
    "Checking that the sidecare will write valid JSON files "
   ]
  },
  {
   "cell_type": "code",
   "execution_count": 24,
   "metadata": {},
   "outputs": [],
   "source": [
    "def validateJSON(json_data): \n",
    "    try: \n",
    "        json.loads(json_data)\n",
    "    except ValueError as err: \n",
    "        return False \n",
    "    return True "
   ]
  },
  {
   "cell_type": "code",
   "execution_count": null,
   "metadata": {},
   "outputs": [],
   "source": [
    "validJsonData = "
   ]
  },
  {
   "cell_type": "markdown",
   "metadata": {},
   "source": [
    "json.dumps = writes valid json no matter what because it will turn it into a string "
   ]
  }
 ],
 "metadata": {
  "kernelspec": {
   "display_name": "Python 3",
   "language": "python",
   "name": "python3"
  },
  "language_info": {
   "codemirror_mode": {
    "name": "ipython",
    "version": 3
   },
   "file_extension": ".py",
   "mimetype": "text/x-python",
   "name": "python",
   "nbconvert_exporter": "python",
   "pygments_lexer": "ipython3",
   "version": "3.8.3"
  }
 },
 "nbformat": 4,
 "nbformat_minor": 4
}
