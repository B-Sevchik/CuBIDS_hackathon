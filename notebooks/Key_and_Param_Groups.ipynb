{
 "cells": [
  {
   "cell_type": "code",
   "execution_count": 1,
   "metadata": {},
   "outputs": [],
   "source": [
    "#!/usr/bin/env python\n",
    "\n",
    "\"\"\"Tests for `bond` package.\"\"\"\n",
    "import sys\n",
    "from pathlib import Path\n",
    "sys.path.append(\"..\")\n",
    "import os\n",
    "import pytest\n",
    "from pkg_resources import resource_filename as pkgrf\n",
    "import shutil\n",
    "import bond\n",
    "import tempfile\n",
    "import os.path as op\n",
    "from copy import deepcopy\n",
    "import base64\n",
    "from glob import glob\n",
    "\n",
    "TEST_DATA = pkgrf(\"bond\", \"testdata\")\n",
    "\n",
    "\n",
    "#data_root = Path(\".\") / \"testdata\" / \"complete\"\n",
    "\n",
    "data_root2 = Path(\"/Users/Covitz/Downloads/RBC_growupCCNP_BIDS/\")\n",
    "\n",
    "#shutil.copytree(TEST_DATA, str(data_root))"
   ]
  },
  {
   "cell_type": "code",
   "execution_count": 2,
   "metadata": {},
   "outputs": [],
   "source": [
    "#!find testdata"
   ]
  },
  {
   "cell_type": "code",
   "execution_count": 3,
   "metadata": {},
   "outputs": [
    {
     "name": "stdout",
     "output_type": "stream",
     "text": [
      "['datatype-anat_reconstruction-refaced_suffix-T1w', 'datatype-func_run-1_suffix-bold_task-rest', 'datatype-func_run-2_suffix-bold_task-rest', 'suffix-', 'suffix-BIDS']\n"
     ]
    }
   ],
   "source": [
    "from bond import BOnD\n",
    "\n",
    "bod = BOnD(str(data_root2))\n",
    "key_groups = bod.get_key_groups()\n",
    "print(key_groups)"
   ]
  },
  {
   "cell_type": "code",
   "execution_count": 4,
   "metadata": {},
   "outputs": [
    {
     "name": "stdout",
     "output_type": "stream",
     "text": [
      "datatype-anat_reconstruction-refaced_suffix-T1w\n",
      "     DwellTime  EchoTime  PartialFourier  RepetitionTime  FlipAngle\n",
      "0     0.000015   0.00302            0.75             2.6        8.0\n",
      "111        NaN       NaN             NaN             NaN        NaN\n",
      "datatype-func_run-1_suffix-bold_task-rest\n",
      "   DwellTime  TotalReadoutTime PhaseEncodingDirection  EchoTime  \\\n",
      "0   0.000003           0.03621                     j-      0.03   \n",
      "1   0.000003           0.03621                     j-      0.03   \n",
      "2   0.000003           0.03621                     j-      0.03   \n",
      "\n",
      "   PartialFourier  EffectiveEchoSpacing  RepetitionTime  FlipAngle  \\\n",
      "0               1               0.00051             2.5         80   \n",
      "1               1               0.00051             2.5         80   \n",
      "2               1               0.00051             2.5         80   \n",
      "\n",
      "   SliceTime000  SliceTime001  ...  SliceTime028  SliceTime029  SliceTime030  \\\n",
      "0           1.2             0  ...           2.2           0.9           2.2   \n",
      "1           1.2             0  ...           2.2           0.9           2.2   \n",
      "2           1.2             0  ...           2.2           0.9           2.2   \n",
      "\n",
      "   SliceTime031  SliceTime032  SliceTime033  SliceTime034  SliceTime035  \\\n",
      "0           1.0           2.3           1.0           2.4           1.1   \n",
      "1           1.0           2.3           1.0           2.4           1.1   \n",
      "2           1.0           2.3           1.1           2.4           1.1   \n",
      "\n",
      "   SliceTime036  SliceTime037  \n",
      "0           2.4           1.2  \n",
      "1           2.4           1.2  \n",
      "2           2.4           1.2  \n",
      "\n",
      "[3 rows x 46 columns]\n",
      "datatype-func_run-2_suffix-bold_task-rest\n",
      "    DwellTime  TotalReadoutTime PhaseEncodingDirection  EchoTime  \\\n",
      "0    0.000003           0.03621                     j-      0.03   \n",
      "1    0.000003           0.03621                     j-      0.03   \n",
      "2    0.000003           0.03621                     j-      0.03   \n",
      "33   0.000003           0.03621                      i      0.03   \n",
      "\n",
      "    PartialFourier  EffectiveEchoSpacing  RepetitionTime  FlipAngle  \\\n",
      "0                1               0.00051             2.5         80   \n",
      "1                1               0.00051             2.5         80   \n",
      "2                1               0.00051             2.5         80   \n",
      "33               1               0.00051             2.5         80   \n",
      "\n",
      "    SliceTime000  SliceTime001  ...  SliceTime028  SliceTime029  SliceTime030  \\\n",
      "0            1.2             0  ...           2.2           0.9           2.2   \n",
      "1            1.2             0  ...           2.2           0.9           2.2   \n",
      "2            1.2             0  ...           2.2           0.9           2.2   \n",
      "33           1.2             0  ...           2.2           0.9           2.2   \n",
      "\n",
      "    SliceTime031  SliceTime032  SliceTime033  SliceTime034  SliceTime035  \\\n",
      "0            1.0           2.3           1.0           2.4           1.1   \n",
      "1            1.0           2.3           1.1           2.4           1.1   \n",
      "2            1.0           2.3           1.0           2.4           1.1   \n",
      "33           1.0           2.3           1.0           2.4           1.1   \n",
      "\n",
      "    SliceTime036  SliceTime037  \n",
      "0            2.4           1.2  \n",
      "1            2.4           1.2  \n",
      "2            2.4           1.2  \n",
      "33           2.4           1.2  \n",
      "\n",
      "[4 rows x 46 columns]\n",
      "suffix-\n",
      "     DwellTime  EchoTime  PartialFourier  RepetitionTime  FlipAngle  \\\n",
      "0     0.000015   0.00302            0.75             2.6        8.0   \n",
      "1     0.000003   0.03000            1.00             2.5       80.0   \n",
      "4     0.000003   0.03000            1.00             2.5       80.0   \n",
      "5     0.000003   0.03000            1.00             2.5       80.0   \n",
      "101   0.000003   0.03000            1.00             2.5       80.0   \n",
      "333        NaN       NaN             NaN             NaN        NaN   \n",
      "\n",
      "     TotalReadoutTime PhaseEncodingDirection  EffectiveEchoSpacing  \\\n",
      "0                 NaN                    NaN                   NaN   \n",
      "1             0.03621                     j-               0.00051   \n",
      "4             0.03621                     j-               0.00051   \n",
      "5             0.03621                     j-               0.00051   \n",
      "101           0.03621                      i               0.00051   \n",
      "333               NaN                    NaN                   NaN   \n",
      "\n",
      "     SliceTime000  SliceTime001  ...  SliceTime028  SliceTime029  \\\n",
      "0             NaN           NaN  ...           NaN           NaN   \n",
      "1             1.2           0.0  ...           2.2           0.9   \n",
      "4             1.2           0.0  ...           2.2           0.9   \n",
      "5             1.2           0.0  ...           2.2           0.9   \n",
      "101           1.2           0.0  ...           2.2           0.9   \n",
      "333           NaN           NaN  ...           NaN           NaN   \n",
      "\n",
      "     SliceTime030  SliceTime031  SliceTime032  SliceTime033  SliceTime034  \\\n",
      "0             NaN           NaN           NaN           NaN           NaN   \n",
      "1             2.2           1.0           2.3           1.0           2.4   \n",
      "4             2.2           1.0           2.3           1.0           2.4   \n",
      "5             2.2           1.0           2.3           1.1           2.4   \n",
      "101           2.2           1.0           2.3           1.0           2.4   \n",
      "333           NaN           NaN           NaN           NaN           NaN   \n",
      "\n",
      "     SliceTime035  SliceTime036  SliceTime037  \n",
      "0             NaN           NaN           NaN  \n",
      "1             1.1           2.4           1.2  \n",
      "4             1.1           2.4           1.2  \n",
      "5             1.1           2.4           1.2  \n",
      "101           1.1           2.4           1.2  \n",
      "333           NaN           NaN           NaN  \n",
      "\n",
      "[6 rows x 46 columns]\n",
      "suffix-BIDS\n",
      "Empty DataFrame\n",
      "Columns: []\n",
      "Index: []\n"
     ]
    }
   ],
   "source": [
    "for key_group in key_groups:\n",
    "    print(key_group)\n",
    "    print(bod.get_param_groups(key_group))\n",
    "    "
   ]
  },
  {
   "cell_type": "code",
   "execution_count": null,
   "metadata": {},
   "outputs": [],
   "source": []
  },
  {
   "cell_type": "code",
   "execution_count": null,
   "metadata": {},
   "outputs": [],
   "source": [
    "data_root = Path(\".\") / \"testdata\" / \"inconsistent\"\n",
    "multigroup_bod = BOnD(str(data_root2))\n",
    "key_groups = multigroup_bod.get_key_groups()\n",
    "print(key_groups)"
   ]
  },
  {
   "cell_type": "code",
   "execution_count": null,
   "metadata": {},
   "outputs": [],
   "source": [
    "for key_group in key_groups:\n",
    "    print(key_group)\n",
    "    print(multigroup_bod.get_param_groups(key_group))"
   ]
  },
  {
   "cell_type": "code",
   "execution_count": null,
   "metadata": {},
   "outputs": [],
   "source": []
  }
 ],
 "metadata": {
  "kernelspec": {
   "display_name": "Python 3",
   "language": "python",
   "name": "python3"
  },
  "language_info": {
   "codemirror_mode": {
    "name": "ipython",
    "version": 3
   },
   "file_extension": ".py",
   "mimetype": "text/x-python",
   "name": "python",
   "nbconvert_exporter": "python",
   "pygments_lexer": "ipython3",
   "version": "3.8.5"
  }
 },
 "nbformat": 4,
 "nbformat_minor": 4
}
